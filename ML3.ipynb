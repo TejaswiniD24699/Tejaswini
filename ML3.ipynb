{
  "nbformat": 4,
  "nbformat_minor": 0,
  "metadata": {
    "colab": {
      "name": "ML3.ipynb",
      "version": "0.3.2",
      "provenance": [],
      "include_colab_link": true
    },
    "kernelspec": {
      "name": "python3",
      "display_name": "Python 3"
    }
  },
  "cells": [
    {
      "cell_type": "markdown",
      "metadata": {
        "id": "view-in-github",
        "colab_type": "text"
      },
      "source": [
        "<a href=\"https://colab.research.google.com/github/TejaswiniD24699/Tejaswini/blob/master/ML3.ipynb\" target=\"_parent\"><img src=\"https://colab.research.google.com/assets/colab-badge.svg\" alt=\"Open In Colab\"/></a>"
      ]
    },
    {
      "cell_type": "code",
      "metadata": {
        "id": "am1XdQ_KI3dc",
        "colab_type": "code",
        "colab": {
          "base_uri": "https://localhost:8080/",
          "height": 34
        },
        "outputId": "69d05fed-c3df-42db-ed31-c6e89f8f0b51"
      },
      "source": [
        "\n",
        "from sklearn.linear_model import LinearRegression\n",
        "Physics=[[15],[12],[8],[8],[7],[7],[7],[6],[5],[3]]\n",
        "History=[[10],[25],[17],[11],[13],[17],[20],[13],[9],[15]]\n",
        "model=LinearRegression()\n",
        "model.fit(Physics,History)\n",
        "LinearRegression(copy_X=True, fit_intercept=True, n_jobs=None, normalize=False)\n",
        "print('%.1f'%model.predict([[10]])[0])\n"
      ],
      "execution_count": 2,
      "outputs": [
        {
          "output_type": "stream",
          "text": [
            "15.5\n"
          ],
          "name": "stdout"
        }
      ]
    }
  ]
}